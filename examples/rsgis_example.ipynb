{
 "cells": [
  {
   "cell_type": "code",
   "execution_count": 27,
   "metadata": {},
   "outputs": [
    {
     "name": "stdout",
     "output_type": "stream",
     "text": [
      "Requirement already satisfied: rsgis==0.0.3 in c:\\users\\jeafreezy\\anaconda3\\lib\\site-packages (0.0.3)\n",
      "Note: you may need to restart the kernel to use updated packages.\n"
     ]
    }
   ],
   "source": [
    "pip install rsgis==0.0.3"
   ]
  },
  {
   "cell_type": "code",
   "execution_count": 28,
   "metadata": {},
   "outputs": [],
   "source": [
    "from rsgis import landsat,Metadata"
   ]
  },
  {
   "cell_type": "code",
   "execution_count": 29,
   "metadata": {},
   "outputs": [
    {
     "name": "stdout",
     "output_type": "stream",
     "text": [
      "File found. Unzipping files...\n",
      "...almost done\n",
      "Task completed!\n",
      "It took 1.04 minutes to complete this operation.\n"
     ]
    }
   ],
   "source": [
    "#to extract all the bands\n",
    "path=\"C:\\\\LEARNING\\\\RESEARCH_WORK\\\\data\\\\LANDSAT\\\\previous_study\\\\LC08_L1TP_191055_20200120_20200128_01_T1.tar.gz\"\n",
    "data=landsat.extract(path)"
   ]
  },
  {
   "cell_type": "code",
   "execution_count": 30,
   "metadata": {},
   "outputs": [
    {
     "data": {
      "text/plain": [
       "{1: 'C:\\\\LEARNING\\\\RESEARCH_WORK\\\\data\\\\LANDSAT\\\\previous_study\\\\extracted_data\\\\LC08_L1TP_191055_20200120_20200128_01_T1_B1.TIF',\n",
       " 2: 'C:\\\\LEARNING\\\\RESEARCH_WORK\\\\data\\\\LANDSAT\\\\previous_study\\\\extracted_data\\\\LC08_L1TP_191055_20200120_20200128_01_T1_B2.TIF',\n",
       " 3: 'C:\\\\LEARNING\\\\RESEARCH_WORK\\\\data\\\\LANDSAT\\\\previous_study\\\\extracted_data\\\\LC08_L1TP_191055_20200120_20200128_01_T1_B3.TIF'}"
      ]
     },
     "execution_count": 30,
     "metadata": {},
     "output_type": "execute_result"
    }
   ],
   "source": [
    "#to get specific bands for use 1=band1 ,2=band2 etc..\n",
    "data.get_bands(1,2,3)"
   ]
  },
  {
   "cell_type": "code",
   "execution_count": 31,
   "metadata": {},
   "outputs": [],
   "source": [
    "#getting the metadata path\n",
    "mtd_path=data.get_metadata()\n",
    "mtd=Metadata(mtd_path)"
   ]
  },
  {
   "cell_type": "code",
   "execution_count": 32,
   "metadata": {},
   "outputs": [
    {
     "data": {
      "text/plain": [
       "'31'"
      ]
     },
     "execution_count": 32,
     "metadata": {},
     "output_type": "execute_result"
    }
   ],
   "source": [
    "mtd.get('UTM_ZONE')"
   ]
  },
  {
   "cell_type": "code",
   "execution_count": 33,
   "metadata": {},
   "outputs": [
    {
     "data": {
      "text/plain": [
       "['31', '\"WGS84\"']"
      ]
     },
     "execution_count": 33,
     "metadata": {},
     "output_type": "execute_result"
    }
   ],
   "source": [
    "mtd.get_some(['UTM_ZONE','ELLIPSOID'])"
   ]
  },
  {
   "cell_type": "code",
   "execution_count": 34,
   "metadata": {},
   "outputs": [
    {
     "data": {
      "text/plain": [
       "{'GROUP': 'PROJECTION_PARAMETERS',\n",
       " 'ORIGIN': '\"Image courtesy of the U.S. Geological Survey\"',\n",
       " 'REQUEST_ID': '\"0702001272861_00017\"',\n",
       " 'LANDSAT_SCENE_ID': '\"LC81910552020020LGN00\"',\n",
       " 'LANDSAT_PRODUCT_ID': '\"LC08_L1TP_191055_20200120_20200128_01_T1\"',\n",
       " 'COLLECTION_NUMBER': '01',\n",
       " 'FILE_DATE': '2020-01-28T07:04:05Z',\n",
       " 'STATION_ID': '\"LGN\"',\n",
       " 'PROCESSING_SOFTWARE_VERSION': '\"LPGS_13.1.0\"',\n",
       " 'END_GROUP': 'L1_METADATA_FILE',\n",
       " 'DATA_TYPE': '\"L1TP\"',\n",
       " 'COLLECTION_CATEGORY': '\"T1\"',\n",
       " 'ELEVATION_SOURCE': '\"GLS2000\"',\n",
       " 'OUTPUT_FORMAT': '\"GEOTIFF\"',\n",
       " 'SPACECRAFT_ID': '\"LANDSAT_8\"',\n",
       " 'SENSOR_ID': '\"OLI_TIRS\"',\n",
       " 'WRS_PATH': '191',\n",
       " 'WRS_ROW': '55',\n",
       " 'NADIR_OFFNADIR': '\"NADIR\"',\n",
       " 'TARGET_WRS_PATH': '191',\n",
       " 'TARGET_WRS_ROW': '55',\n",
       " 'DATE_ACQUIRED': '2020-01-20',\n",
       " 'SCENE_CENTER_TIME': '\"10:03:05.5424340Z\"',\n",
       " 'CORNER_UL_LAT_PRODUCT': '8.27725',\n",
       " 'CORNER_UL_LON_PRODUCT': '2.39069',\n",
       " 'CORNER_UR_LAT_PRODUCT': '8.27506',\n",
       " 'CORNER_UR_LON_PRODUCT': '4.45548',\n",
       " 'CORNER_LL_LAT_PRODUCT': '6.17692',\n",
       " 'CORNER_LL_LON_PRODUCT': '2.39350',\n",
       " 'CORNER_LR_LAT_PRODUCT': '6.17529',\n",
       " 'CORNER_LR_LON_PRODUCT': '4.44878',\n",
       " 'CORNER_UL_PROJECTION_X_PRODUCT': '432900.000',\n",
       " 'CORNER_UL_PROJECTION_Y_PRODUCT': '915000.000',\n",
       " 'CORNER_UR_PROJECTION_X_PRODUCT': '660300.000',\n",
       " 'CORNER_UR_PROJECTION_Y_PRODUCT': '915000.000',\n",
       " 'CORNER_LL_PROJECTION_X_PRODUCT': '432900.000',\n",
       " 'CORNER_LL_PROJECTION_Y_PRODUCT': '682800.000',\n",
       " 'CORNER_LR_PROJECTION_X_PRODUCT': '660300.000',\n",
       " 'CORNER_LR_PROJECTION_Y_PRODUCT': '682800.000',\n",
       " 'PANCHROMATIC_LINES': '15481',\n",
       " 'PANCHROMATIC_SAMPLES': '15161',\n",
       " 'REFLECTIVE_LINES': '7741',\n",
       " 'REFLECTIVE_SAMPLES': '7581',\n",
       " 'THERMAL_LINES': '7741',\n",
       " 'THERMAL_SAMPLES': '7581',\n",
       " 'FILE_NAME_BAND_1': '\"LC08_L1TP_191055_20200120_20200128_01_T1_B1.TIF\"',\n",
       " 'FILE_NAME_BAND_2': '\"LC08_L1TP_191055_20200120_20200128_01_T1_B2.TIF\"',\n",
       " 'FILE_NAME_BAND_3': '\"LC08_L1TP_191055_20200120_20200128_01_T1_B3.TIF\"',\n",
       " 'FILE_NAME_BAND_4': '\"LC08_L1TP_191055_20200120_20200128_01_T1_B4.TIF\"',\n",
       " 'FILE_NAME_BAND_5': '\"LC08_L1TP_191055_20200120_20200128_01_T1_B5.TIF\"',\n",
       " 'FILE_NAME_BAND_6': '\"LC08_L1TP_191055_20200120_20200128_01_T1_B6.TIF\"',\n",
       " 'FILE_NAME_BAND_7': '\"LC08_L1TP_191055_20200120_20200128_01_T1_B7.TIF\"',\n",
       " 'FILE_NAME_BAND_8': '\"LC08_L1TP_191055_20200120_20200128_01_T1_B8.TIF\"',\n",
       " 'FILE_NAME_BAND_9': '\"LC08_L1TP_191055_20200120_20200128_01_T1_B9.TIF\"',\n",
       " 'FILE_NAME_BAND_10': '\"LC08_L1TP_191055_20200120_20200128_01_T1_B10.TIF\"',\n",
       " 'FILE_NAME_BAND_11': '\"LC08_L1TP_191055_20200120_20200128_01_T1_B11.TIF\"',\n",
       " 'FILE_NAME_BAND_QUALITY': '\"LC08_L1TP_191055_20200120_20200128_01_T1_BQA.TIF\"',\n",
       " 'ANGLE_COEFFICIENT_FILE_NAME': '\"LC08_L1TP_191055_20200120_20200128_01_T1_ANG.txt\"',\n",
       " 'METADATA_FILE_NAME': '\"LC08_L1TP_191055_20200120_20200128_01_T1_MTL.txt\"',\n",
       " 'CPF_NAME': '\"LC08CPF_20200101_20200331_01.03\"',\n",
       " 'BPF_NAME_OLI': '\"LO8BPF20200120094607_20200120112612.01\"',\n",
       " 'BPF_NAME_TIRS': '\"LT8BPF20200111081111_20200125110521.01\"',\n",
       " 'RLUT_FILE_NAME': '\"LC08RLUT_20150303_20431231_01_12.h5\"',\n",
       " 'CLOUD_COVER': '9.76',\n",
       " 'CLOUD_COVER_LAND': '5.48',\n",
       " 'IMAGE_QUALITY_OLI': '9',\n",
       " 'IMAGE_QUALITY_TIRS': '9',\n",
       " 'TIRS_SSM_MODEL': '\"FINAL\"',\n",
       " 'TIRS_SSM_POSITION_STATUS': '\"ESTIMATED\"',\n",
       " 'TIRS_STRAY_LIGHT_CORRECTION_SOURCE': '\"TIRS\"',\n",
       " 'ROLL_ANGLE': '-0.001',\n",
       " 'SUN_AZIMUTH': '134.88500186',\n",
       " 'SUN_ELEVATION': '50.77679749',\n",
       " 'EARTH_SUN_DISTANCE': '0.9839403',\n",
       " 'SATURATION_BAND_1': '\"N\"',\n",
       " 'SATURATION_BAND_2': '\"N\"',\n",
       " 'SATURATION_BAND_3': '\"N\"',\n",
       " 'SATURATION_BAND_4': '\"N\"',\n",
       " 'SATURATION_BAND_5': '\"N\"',\n",
       " 'SATURATION_BAND_6': '\"N\"',\n",
       " 'SATURATION_BAND_7': '\"Y\"',\n",
       " 'SATURATION_BAND_8': '\"N\"',\n",
       " 'SATURATION_BAND_9': '\"N\"',\n",
       " 'GROUND_CONTROL_POINTS_VERSION': '4',\n",
       " 'GROUND_CONTROL_POINTS_MODEL': '174',\n",
       " 'GEOMETRIC_RMSE_MODEL': '7.847',\n",
       " 'GEOMETRIC_RMSE_MODEL_Y': '5.751',\n",
       " 'GEOMETRIC_RMSE_MODEL_X': '5.339',\n",
       " 'GROUND_CONTROL_POINTS_VERIFY': '56',\n",
       " 'GEOMETRIC_RMSE_VERIFY': '4.479',\n",
       " 'TRUNCATION_OLI': '\"UPPER\"',\n",
       " 'RADIANCE_MAXIMUM_BAND_1': '785.07642',\n",
       " 'RADIANCE_MINIMUM_BAND_1': '-64.83186',\n",
       " 'RADIANCE_MAXIMUM_BAND_2': '803.92786',\n",
       " 'RADIANCE_MINIMUM_BAND_2': '-66.38863',\n",
       " 'RADIANCE_MAXIMUM_BAND_3': '740.81262',\n",
       " 'RADIANCE_MINIMUM_BAND_3': '-61.17655',\n",
       " 'RADIANCE_MAXIMUM_BAND_4': '624.69495',\n",
       " 'RADIANCE_MINIMUM_BAND_4': '-51.58751',\n",
       " 'RADIANCE_MAXIMUM_BAND_5': '382.28217',\n",
       " 'RADIANCE_MINIMUM_BAND_5': '-31.56898',\n",
       " 'RADIANCE_MAXIMUM_BAND_6': '95.07009',\n",
       " 'RADIANCE_MINIMUM_BAND_6': '-7.85092',\n",
       " 'RADIANCE_MAXIMUM_BAND_7': '32.04371',\n",
       " 'RADIANCE_MINIMUM_BAND_7': '-2.64618',\n",
       " 'RADIANCE_MAXIMUM_BAND_8': '706.98273',\n",
       " 'RADIANCE_MINIMUM_BAND_8': '-58.38287',\n",
       " 'RADIANCE_MAXIMUM_BAND_9': '149.40453',\n",
       " 'RADIANCE_MINIMUM_BAND_9': '-12.33787',\n",
       " 'RADIANCE_MAXIMUM_BAND_10': '22.00180',\n",
       " 'RADIANCE_MINIMUM_BAND_10': '0.10033',\n",
       " 'RADIANCE_MAXIMUM_BAND_11': '22.00180',\n",
       " 'RADIANCE_MINIMUM_BAND_11': '0.10033',\n",
       " 'REFLECTANCE_MAXIMUM_BAND_1': '1.210700',\n",
       " 'REFLECTANCE_MINIMUM_BAND_1': '-0.099980',\n",
       " 'REFLECTANCE_MAXIMUM_BAND_2': '1.210700',\n",
       " 'REFLECTANCE_MINIMUM_BAND_2': '-0.099980',\n",
       " 'REFLECTANCE_MAXIMUM_BAND_3': '1.210700',\n",
       " 'REFLECTANCE_MINIMUM_BAND_3': '-0.099980',\n",
       " 'REFLECTANCE_MAXIMUM_BAND_4': '1.210700',\n",
       " 'REFLECTANCE_MINIMUM_BAND_4': '-0.099980',\n",
       " 'REFLECTANCE_MAXIMUM_BAND_5': '1.210700',\n",
       " 'REFLECTANCE_MINIMUM_BAND_5': '-0.099980',\n",
       " 'REFLECTANCE_MAXIMUM_BAND_6': '1.210700',\n",
       " 'REFLECTANCE_MINIMUM_BAND_6': '-0.099980',\n",
       " 'REFLECTANCE_MAXIMUM_BAND_7': '1.210700',\n",
       " 'REFLECTANCE_MINIMUM_BAND_7': '-0.099980',\n",
       " 'REFLECTANCE_MAXIMUM_BAND_8': '1.210700',\n",
       " 'REFLECTANCE_MINIMUM_BAND_8': '-0.099980',\n",
       " 'REFLECTANCE_MAXIMUM_BAND_9': '1.210700',\n",
       " 'REFLECTANCE_MINIMUM_BAND_9': '-0.099980',\n",
       " 'QUANTIZE_CAL_MAX_BAND_1': '65535',\n",
       " 'QUANTIZE_CAL_MIN_BAND_1': '1',\n",
       " 'QUANTIZE_CAL_MAX_BAND_2': '65535',\n",
       " 'QUANTIZE_CAL_MIN_BAND_2': '1',\n",
       " 'QUANTIZE_CAL_MAX_BAND_3': '65535',\n",
       " 'QUANTIZE_CAL_MIN_BAND_3': '1',\n",
       " 'QUANTIZE_CAL_MAX_BAND_4': '65535',\n",
       " 'QUANTIZE_CAL_MIN_BAND_4': '1',\n",
       " 'QUANTIZE_CAL_MAX_BAND_5': '65535',\n",
       " 'QUANTIZE_CAL_MIN_BAND_5': '1',\n",
       " 'QUANTIZE_CAL_MAX_BAND_6': '65535',\n",
       " 'QUANTIZE_CAL_MIN_BAND_6': '1',\n",
       " 'QUANTIZE_CAL_MAX_BAND_7': '65535',\n",
       " 'QUANTIZE_CAL_MIN_BAND_7': '1',\n",
       " 'QUANTIZE_CAL_MAX_BAND_8': '65535',\n",
       " 'QUANTIZE_CAL_MIN_BAND_8': '1',\n",
       " 'QUANTIZE_CAL_MAX_BAND_9': '65535',\n",
       " 'QUANTIZE_CAL_MIN_BAND_9': '1',\n",
       " 'QUANTIZE_CAL_MAX_BAND_10': '65535',\n",
       " 'QUANTIZE_CAL_MIN_BAND_10': '1',\n",
       " 'QUANTIZE_CAL_MAX_BAND_11': '65535',\n",
       " 'QUANTIZE_CAL_MIN_BAND_11': '1',\n",
       " 'RADIANCE_MULT_BAND_1': '1.2969E-02',\n",
       " 'RADIANCE_MULT_BAND_2': '1.3280E-02',\n",
       " 'RADIANCE_MULT_BAND_3': '1.2238E-02',\n",
       " 'RADIANCE_MULT_BAND_4': '1.0320E-02',\n",
       " 'RADIANCE_MULT_BAND_5': '6.3151E-03',\n",
       " 'RADIANCE_MULT_BAND_6': '1.5705E-03',\n",
       " 'RADIANCE_MULT_BAND_7': '5.2934E-04',\n",
       " 'RADIANCE_MULT_BAND_8': '1.1679E-02',\n",
       " 'RADIANCE_MULT_BAND_9': '2.4681E-03',\n",
       " 'RADIANCE_MULT_BAND_10': '3.3420E-04',\n",
       " 'RADIANCE_MULT_BAND_11': '3.3420E-04',\n",
       " 'RADIANCE_ADD_BAND_1': '-64.84484',\n",
       " 'RADIANCE_ADD_BAND_2': '-66.40190',\n",
       " 'RADIANCE_ADD_BAND_3': '-61.18879',\n",
       " 'RADIANCE_ADD_BAND_4': '-51.59783',\n",
       " 'RADIANCE_ADD_BAND_5': '-31.57530',\n",
       " 'RADIANCE_ADD_BAND_6': '-7.85249',\n",
       " 'RADIANCE_ADD_BAND_7': '-2.64671',\n",
       " 'RADIANCE_ADD_BAND_8': '-58.39454',\n",
       " 'RADIANCE_ADD_BAND_9': '-12.34034',\n",
       " 'RADIANCE_ADD_BAND_10': '0.10000',\n",
       " 'RADIANCE_ADD_BAND_11': '0.10000',\n",
       " 'REFLECTANCE_MULT_BAND_1': '2.0000E-05',\n",
       " 'REFLECTANCE_MULT_BAND_2': '2.0000E-05',\n",
       " 'REFLECTANCE_MULT_BAND_3': '2.0000E-05',\n",
       " 'REFLECTANCE_MULT_BAND_4': '2.0000E-05',\n",
       " 'REFLECTANCE_MULT_BAND_5': '2.0000E-05',\n",
       " 'REFLECTANCE_MULT_BAND_6': '2.0000E-05',\n",
       " 'REFLECTANCE_MULT_BAND_7': '2.0000E-05',\n",
       " 'REFLECTANCE_MULT_BAND_8': '2.0000E-05',\n",
       " 'REFLECTANCE_MULT_BAND_9': '2.0000E-05',\n",
       " 'REFLECTANCE_ADD_BAND_1': '-0.100000',\n",
       " 'REFLECTANCE_ADD_BAND_2': '-0.100000',\n",
       " 'REFLECTANCE_ADD_BAND_3': '-0.100000',\n",
       " 'REFLECTANCE_ADD_BAND_4': '-0.100000',\n",
       " 'REFLECTANCE_ADD_BAND_5': '-0.100000',\n",
       " 'REFLECTANCE_ADD_BAND_6': '-0.100000',\n",
       " 'REFLECTANCE_ADD_BAND_7': '-0.100000',\n",
       " 'REFLECTANCE_ADD_BAND_8': '-0.100000',\n",
       " 'REFLECTANCE_ADD_BAND_9': '-0.100000',\n",
       " 'K1_CONSTANT_BAND_10': '774.8853',\n",
       " 'K2_CONSTANT_BAND_10': '1321.0789',\n",
       " 'K1_CONSTANT_BAND_11': '480.8883',\n",
       " 'K2_CONSTANT_BAND_11': '1201.1442',\n",
       " 'MAP_PROJECTION': '\"UTM\"',\n",
       " 'DATUM': '\"WGS84\"',\n",
       " 'ELLIPSOID': '\"WGS84\"',\n",
       " 'UTM_ZONE': '31',\n",
       " 'GRID_CELL_SIZE_PANCHROMATIC': '15.00',\n",
       " 'GRID_CELL_SIZE_REFLECTIVE': '30.00',\n",
       " 'GRID_CELL_SIZE_THERMAL': '30.00',\n",
       " 'ORIENTATION': '\"NORTH_UP\"',\n",
       " 'RESAMPLING_OPTION': '\"CUBIC_CONVOLUTION\"',\n",
       " 'END': 'END'}"
      ]
     },
     "execution_count": 34,
     "metadata": {},
     "output_type": "execute_result"
    }
   ],
   "source": [
    "mtd.get_all()"
   ]
  },
  {
   "cell_type": "code",
   "execution_count": 36,
   "metadata": {},
   "outputs": [
    {
     "data": {
      "text/plain": [
       "{13: 'C:\\\\LEARNING\\\\RESEARCH_WORK\\\\data\\\\LANDSAT\\\\previous_study\\\\extracted_data\\\\LC08_L1TP_191055_20200120_20200128_01_T1_ANG.txt',\n",
       " 1: 'C:\\\\LEARNING\\\\RESEARCH_WORK\\\\data\\\\LANDSAT\\\\previous_study\\\\extracted_data\\\\LC08_L1TP_191055_20200120_20200128_01_T1_B1.TIF',\n",
       " 10: 'C:\\\\LEARNING\\\\RESEARCH_WORK\\\\data\\\\LANDSAT\\\\previous_study\\\\extracted_data\\\\LC08_L1TP_191055_20200120_20200128_01_T1_B10.TIF',\n",
       " 11: 'C:\\\\LEARNING\\\\RESEARCH_WORK\\\\data\\\\LANDSAT\\\\previous_study\\\\extracted_data\\\\LC08_L1TP_191055_20200120_20200128_01_T1_B11.TIF',\n",
       " 2: 'C:\\\\LEARNING\\\\RESEARCH_WORK\\\\data\\\\LANDSAT\\\\previous_study\\\\extracted_data\\\\LC08_L1TP_191055_20200120_20200128_01_T1_B2.TIF',\n",
       " 3: 'C:\\\\LEARNING\\\\RESEARCH_WORK\\\\data\\\\LANDSAT\\\\previous_study\\\\extracted_data\\\\LC08_L1TP_191055_20200120_20200128_01_T1_B3.TIF',\n",
       " 4: 'C:\\\\LEARNING\\\\RESEARCH_WORK\\\\data\\\\LANDSAT\\\\previous_study\\\\extracted_data\\\\LC08_L1TP_191055_20200120_20200128_01_T1_B4.TIF',\n",
       " 5: 'C:\\\\LEARNING\\\\RESEARCH_WORK\\\\data\\\\LANDSAT\\\\previous_study\\\\extracted_data\\\\LC08_L1TP_191055_20200120_20200128_01_T1_B5.TIF',\n",
       " 6: 'C:\\\\LEARNING\\\\RESEARCH_WORK\\\\data\\\\LANDSAT\\\\previous_study\\\\extracted_data\\\\LC08_L1TP_191055_20200120_20200128_01_T1_B6.TIF',\n",
       " 7: 'C:\\\\LEARNING\\\\RESEARCH_WORK\\\\data\\\\LANDSAT\\\\previous_study\\\\extracted_data\\\\LC08_L1TP_191055_20200120_20200128_01_T1_B7.TIF',\n",
       " 8: 'C:\\\\LEARNING\\\\RESEARCH_WORK\\\\data\\\\LANDSAT\\\\previous_study\\\\extracted_data\\\\LC08_L1TP_191055_20200120_20200128_01_T1_B8.TIF',\n",
       " 9: 'C:\\\\LEARNING\\\\RESEARCH_WORK\\\\data\\\\LANDSAT\\\\previous_study\\\\extracted_data\\\\LC08_L1TP_191055_20200120_20200128_01_T1_B9.TIF',\n",
       " 12: 'C:\\\\LEARNING\\\\RESEARCH_WORK\\\\data\\\\LANDSAT\\\\previous_study\\\\extracted_data\\\\LC08_L1TP_191055_20200120_20200128_01_T1_BQA.TIF',\n",
       " 0: 'C:\\\\LEARNING\\\\RESEARCH_WORK\\\\data\\\\LANDSAT\\\\previous_study\\\\extracted_data\\\\LC08_L1TP_191055_20200120_20200128_01_T1_MTL.txt'}"
      ]
     },
     "execution_count": 36,
     "metadata": {},
     "output_type": "execute_result"
    }
   ],
   "source": [
    "data.bands_dir"
   ]
  },
  {
   "cell_type": "code",
   "execution_count": 39,
   "metadata": {},
   "outputs": [
    {
     "name": "stdout",
     "output_type": "stream",
     "text": [
      "File found. Unzipping files...\n",
      "...almost done\n",
      "Task completed!\n",
      "It took 0.30 minutes to complete this operation.\n"
     ]
    }
   ],
   "source": [
    "#extracting specific bands\n",
    "B4=landsat.extract(path,bands=[4])"
   ]
  },
  {
   "cell_type": "code",
   "execution_count": 40,
   "metadata": {},
   "outputs": [
    {
     "data": {
      "text/plain": [
       "{4: 'C:\\\\LEARNING\\\\RESEARCH_WORK\\\\data\\\\LANDSAT\\\\previous_study\\\\extracted_data\\\\LC08_L1TP_191055_20200120_20200128_01_T1_B4.TIF'}"
      ]
     },
     "execution_count": 40,
     "metadata": {},
     "output_type": "execute_result"
    }
   ],
   "source": [
    "B4.bands_dir"
   ]
  },
  {
   "cell_type": "code",
   "execution_count": null,
   "metadata": {},
   "outputs": [],
   "source": []
  }
 ],
 "metadata": {
  "kernelspec": {
   "display_name": "Python 3",
   "language": "python",
   "name": "python3"
  },
  "language_info": {
   "codemirror_mode": {
    "name": "ipython",
    "version": 3
   },
   "file_extension": ".py",
   "mimetype": "text/x-python",
   "name": "python",
   "nbconvert_exporter": "python",
   "pygments_lexer": "ipython3",
   "version": "3.7.4"
  }
 },
 "nbformat": 4,
 "nbformat_minor": 4
}
