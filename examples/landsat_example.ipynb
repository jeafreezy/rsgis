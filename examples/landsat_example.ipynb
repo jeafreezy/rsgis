{
 "cells": [
  {
   "cell_type": "code",
   "execution_count": 2,
   "metadata": {},
   "outputs": [],
   "source": [
    "#import modules\n",
    "from rsgis import landsat"
   ]
  },
  {
   "cell_type": "code",
   "execution_count": 3,
   "metadata": {},
   "outputs": [],
   "source": [
    "#path to file\n",
    "path = '/home/max/Documents/rsgis/test_.tar.xz'"
   ]
  },
  {
   "cell_type": "code",
   "execution_count": 9,
   "metadata": {},
   "outputs": [],
   "source": [
    "#To extract all the files in the given path\n",
    "data = landsat.extract(path)"
   ]
  },
  {
   "cell_type": "code",
   "execution_count": 12,
   "metadata": {},
   "outputs": [
    {
     "data": {
      "text/plain": [
       "'/home/max/Documents/rsgis/extracted_data/LC08_L1TP_190055_20200214_20200225_01_T1_MTL.txt'"
      ]
     },
     "execution_count": 12,
     "metadata": {},
     "output_type": "execute_result"
    }
   ],
   "source": [
    "#To get the metadata file path\n",
    "data.get_metadata()"
   ]
  },
  {
   "cell_type": "code",
   "execution_count": 14,
   "metadata": {},
   "outputs": [],
   "source": [
    "#To extract particular bands from given path\n",
    "#metadata --- 0\n",
    "#Band1 --- 1\n",
    "#Band2 --- 2, etc\n",
    "data = landsat.extract(path, bands = [0, 1, 2])"
   ]
  },
  {
   "cell_type": "code",
   "execution_count": 18,
   "metadata": {},
   "outputs": [
    {
     "data": {
      "text/plain": [
       "{1: '/home/max/Documents/rsgis/extracted_data/LC08_L1TP_190055_20200214_20200225_01_T1_B1.TIF'}"
      ]
     },
     "execution_count": 18,
     "metadata": {},
     "output_type": "execute_result"
    }
   ],
   "source": [
    "#To check paths to a specific extracted band\n",
    "data.get_bands(1)"
   ]
  },
  {
   "cell_type": "code",
   "execution_count": 19,
   "metadata": {},
   "outputs": [
    {
     "data": {
      "text/plain": [
       "{0: '/home/max/Documents/rsgis/extracted_data/LC08_L1TP_190055_20200214_20200225_01_T1_MTL.txt',\n",
       " 1: '/home/max/Documents/rsgis/extracted_data/LC08_L1TP_190055_20200214_20200225_01_T1_B1.TIF',\n",
       " 2: '/home/max/Documents/rsgis/extracted_data/LC08_L1TP_190055_20200214_20200225_01_T1_B2.TIF'}"
      ]
     },
     "execution_count": 19,
     "metadata": {},
     "output_type": "execute_result"
    }
   ],
   "source": [
    "#To check paths to specific extracted bands\\\n",
    "data.get_bands(0, 1, 2)"
   ]
  },
  {
   "cell_type": "code",
   "execution_count": null,
   "metadata": {},
   "outputs": [],
   "source": []
  }
 ],
 "metadata": {
  "kernelspec": {
   "display_name": "Python 3",
   "language": "python",
   "name": "python3"
  },
  "language_info": {
   "codemirror_mode": {
    "name": "ipython",
    "version": 3
   },
   "file_extension": ".py",
   "mimetype": "text/x-python",
   "name": "python",
   "nbconvert_exporter": "python",
   "pygments_lexer": "ipython3",
   "version": "3.7.6"
  }
 },
 "nbformat": 4,
 "nbformat_minor": 4
}
